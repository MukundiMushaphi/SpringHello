{
 "cells": [
  {
   "cell_type": "markdown",
   "id": "5ceff933-1bf7-4097-9162-012382d2bc0c",
   "metadata": {},
   "source": [
    "# Computer Assignment 1"
   ]
  },
  {
   "cell_type": "markdown",
   "id": "8202b8ec-e2fd-4dda-bda3-e0187f3ae3e5",
   "metadata": {
    "editable": true,
    "slideshow": {
     "slide_type": ""
    },
    "tags": []
   },
   "source": [
    "***\n",
    "**Task 1**:  Simple plotting of signals\n",
    "***"
   ]
  },
  {
   "cell_type": "markdown",
   "id": "873c6ef5-c253-45aa-83b6-922a6826b8ee",
   "metadata": {},
   "source": [
    "Write a general function that will generate values from a finite-length sinusoid of the form\n",
    "$$\n",
    "  x[n] = A \\cos(\\omega_0 n + \\phi) \n",
    "$$\n",
    "The function will need four input arguments: three for the parameters (scalar floats $A$, $\\omega_0$, and $\\phi$), and one vector containing the values of $n$ for which $x[n]$ must be calculated. The function should take the form\n",
    "\n",
    "> `xv = getcosinevals(A, w0, phi, nv)`\n",
    "\n",
    "With the obvious correspondence between parameters and variables. \n",
    "\n",
    "Test the function by generating and plotting values of the signal\n",
    "$$\n",
    "  x_1[n] = 2 \\cos \\left( \\frac{2\\pi}{12} n + \\frac{\\pi}{4} \\right)\n",
    "$$\n",
    "over the range $-10$ to $15$.  The horizontal axis should extend only over the range indicated, and the axes should be labelled accordingly.  Each signal should be displayed using a stem plot since it's a discrete signal."
   ]
  },
  {
   "cell_type": "code",
   "execution_count": null,
   "id": "a5a09fb9-f244-4c45-9d3f-776d20303e88",
   "metadata": {
    "tags": []
   },
   "outputs": [],
   "source": [
    "import numpy as np\n",
    "import matplotlib.pyplot as plt\n",
    "\n",
    "def getcosinevals(A, w0, phi, nv):\n",
    "    ...\n",
    "    return xv\n",
    "\n",
    "...\n",
    "n1v = ...\n",
    "x1v = getcosinevals(A, w0, phi, n1v)\n",
    "\n",
    "# Stem plot with labels\n",
    "plt.stem(n1v, x1v)\n",
    "plt.xlabel('$n$')\n",
    "plt.ylabel('$x_1[n]$')\n",
    "\n",
    "# Make axes a bit prettier\n",
    "ax = plt.gca()\n",
    "ax.autoscale(enable=True, axis='x', tight=True)"
   ]
  },
  {
   "cell_type": "markdown",
   "id": "550568ea-5e0f-46b3-ae8f-973aeae1ca91",
   "metadata": {},
   "source": [
    "***\n",
    "**Task 2**:  Simple filtering, with input and output plotted on same axes\n",
    "***"
   ]
  },
  {
   "cell_type": "markdown",
   "id": "ece28fff-153f-4337-adba-b839b78e41e8",
   "metadata": {
    "deletable": false,
    "editable": false
   },
   "source": [
    "A lowpass filter has an impulse response    \n",
    "$$\\begin{aligned}\n",
    "  h[n] = \\begin{cases}\n",
    "    \\frac{1}{7} \\qquad & 0 \\leq n \\leq 6 \\\\\n",
    "    0 \\qquad & \\text{otherwise}.\n",
    "  \\end{cases}\n",
    "\\end{aligned}$$\n",
    "Suppose the input to the filter is the (one-sided) sinusoidal sequence $$x[n] = u[n] \\cos(\\omega_0 n),$$ with $\\omega_0 = \\pi/10$, and the output is $y[n]$. Calculate and plot the input and output sequence on the same set of axes over the range $-10, \\ldots, 70$.  Note that after the initial transient dies down, the output signal is also sinusoidal. What is the magnitude and phase of this output relative to the input?"
   ]
  },
  {
   "cell_type": "code",
   "execution_count": null,
   "id": "75955c30-6bc2-49c9-92c2-2b8fda5cccc8",
   "metadata": {
    "tags": []
   },
   "outputs": [],
   "source": [
    "import numpy as np\n",
    "import matplotlib.pyplot as plt\n",
    "\n",
    "# The block of code below should populate xv with the required x[n] values for each corresponding element of nv\n",
    "n2v = np.arange(-10,71)  # vector of n values to consider\n",
    "...\n",
    "x2v = ...\n",
    "plt.stem(n2v,x2v,linefmt='r');\n",
    "\n",
    "# The block of code below should populate yv with the required y[n] values for each corresponding element of nv.\n",
    "# Initially you should calculate these values using two nested for loops, but subsequently you can explore using\n",
    "# numpy.convolve\n",
    "...\n",
    "y2v = ...\n",
    "plt.stem(n2v,y2v,linefmt='b');\n",
    "\n",
    "plt.xlabel(\"n\")\n",
    "plt.ylabel(\"Signal value\")\n",
    "plt.legend([\"x[n]\",\"y[n]\"]);"
   ]
  },
  {
   "cell_type": "markdown",
   "id": "6fd4d0df-43ba-41bf-ad2f-acf2b6107266",
   "metadata": {},
   "source": [
    "***\n",
    "**Task 3**:  Frequency response\n",
    "***"
   ]
  },
  {
   "cell_type": "markdown",
   "id": "fb7f1d5c-4d50-4c51-8ec0-81e505075f25",
   "metadata": {
    "deletable": false,
    "editable": false
   },
   "source": [
    "Write a function that takes in a right-sided filter impulse response $h[n]$ and a set of frequencies $\\omega$, and returns the corresponding values of $H(e^{j \\omega})$.  The function declaration may look as follows:\n",
    "\n",
    "> `Hv = freqresp(hv, wv)`\n",
    "\n",
    "Here `hv` is a vector with $p$ elements specifying all the nonzero values of the impulse response, such that\n",
    "`hv[0]`=$h[0]$, `hv[1]`=$h[1]$, and so on. The input `wv` is a vector of real-valued frequency values, and the output `Hv` must contain the complex frequency response values corresponding to the elements of `wv`.\n",
    "\n",
    "Use this function to find the frequency response values of the moving average lowpass filter\n",
    "$$\\begin{aligned}\n",
    "  h_3[n] = \\begin{cases}\n",
    "    \\frac{1}{16} (n + 1) \\qquad & 0 \\leq n \\leq 3 \\\\\n",
    "    \\frac{1}{16} (7 - n) \\qquad & 4 \\leq n \\leq 6 \\\\\n",
    "    0 \\qquad & \\text{otherwise}.\n",
    "  \\end{cases}\n",
    "\\end{aligned}$$\n",
    "for a range of frequencies $\\omega = 0, 0.01, \\ldots, 4\\pi$. Plot the magnitude `abs(H)` as a function of $\\omega$. On a separate set of axes, plot the phase `angle(H)` as a function of $\\omega$. Interpret the results you obtain, and note the periodicity of the frequency response. What effect will the system have on an input complex exponential with frequency $\\omega = \\pi/2$?"
   ]
  },
  {
   "cell_type": "code",
   "execution_count": null,
   "id": "bb952648-8ade-4c53-98a3-2536da465106",
   "metadata": {
    "tags": []
   },
   "outputs": [],
   "source": [
    "import numpy as np\n",
    "import matplotlib.pyplot as plt\n",
    "\n",
    "def freqresp(hv, wv):\n",
    "    Hv = np.zeros(wv.shape, dtype=np.cdouble)\n",
    "    ...\n",
    "    return Hv\n",
    "    \n",
    "# The block below should generate the vector of values htv corresponding to the elements of nv\n",
    "n3v = np.arange(0,7)\n",
    "h3v = ...\n",
    "...\n",
    "\n",
    "# Plot impulse response\n",
    "plt.figure\n",
    "plt.stem(n3v,h3v)\n",
    "plt.xlabel('$n$')\n",
    "plt.ylabel('$h_3[n]$')\n",
    "ax = plt.gca()\n",
    "ax.set_title('Filter impulse response')\n",
    "\n",
    "# Vector of values of omega at which to calculate frequency response\n",
    "w3v = np.arange(0, 4*np.pi, 0.01)\n",
    "\n",
    "# Calculate frequency response values\n",
    "H3v = freqresp(h3v, w3v)\n",
    "\n",
    "# Plot frequency response\n",
    "fig, axs = plt.subplots(2, 1, constrained_layout=True)\n",
    "\n",
    "axs[0].plot(w3v, np.abs(H3v))\n",
    "axs[0].set_title('Filter frequency response')\n",
    "axs[0].set_ylabel('$|H(e^{j \\omega})|$')\n",
    "\n",
    "axs[1].plot(w3v, np.angle(H3v))\n",
    "axs[1].set_xlabel('$\\omega$')\n",
    "axs[1].set_ylabel('$\\t{angle}~H(e^{j \\omega})$');"
   ]
  },
  {
   "cell_type": "markdown",
   "id": "0ed69fce",
   "metadata": {
    "deletable": false,
    "editable": false
   },
   "source": [
    "## Submission\n",
    "\n",
    "Make sure you have run all cells in your notebook in order before running the cell below, so that all images/graphs appear in the output. Export as a PDF and submit. **Please save before exporting!**"
   ]
  }
 ],
 "metadata": {
  "kernelspec": {
   "display_name": "Python 3 (ipykernel)",
   "language": "python",
   "name": "python3"
  },
  "language_info": {
   "codemirror_mode": {
    "name": "ipython",
    "version": 3
   },
   "file_extension": ".py",
   "mimetype": "text/x-python",
   "name": "python",
   "nbconvert_exporter": "python",
   "pygments_lexer": "ipython3",
   "version": "3.13.0"
  },
  "otter": {
   "OK_FORMAT": true,
   "assignment_name": "lab_ass01_q1",
   "tests": {
    "lab_ass01_q1a": {
     "name": "lab_ass01_q1a",
     "points": null,
     "suites": [
      {
       "cases": [
        {
         "code": ">>> assert len(n1v) == 15 - -10 + 1\n",
         "failure_message": "len(n1v) does not return correct length",
         "hidden": false,
         "locked": false,
         "points": 1,
         "success_message": "len(n1v) returns correct length"
        },
        {
         "code": ">>> assert n1v.shape == x1v.shape\n",
         "failure_message": "x1v does not have same shape as n1v",
         "hidden": false,
         "locked": false,
         "points": 1,
         "success_message": "x1v has same shape as n1v"
        }
       ],
       "scored": true,
       "setup": "",
       "teardown": "",
       "type": "doctest"
      }
     ]
    },
    "lab_ass01_q1b": {
     "name": "lab_ass01_q1b",
     "points": null,
     "suites": [
      {
       "cases": [
        {
         "code": ">>> assert n2v.shape == x2v.shape\n",
         "failure_message": "xv does not have same shape as nv",
         "hidden": false,
         "locked": false,
         "points": 1,
         "success_message": "xv has same shape as nv"
        },
        {
         "code": ">>> assert all(x2v[n2v < 0] == 0)\n",
         "failure_message": "elements of xv are not all zero where nv<0",
         "hidden": false,
         "locked": false,
         "points": 1,
         "success_message": "elements of xv are all zero where nv<0"
        },
        {
         "code": ">>> assert n2v.shape == y2v.shape\n",
         "failure_message": "y2v does not have same shape as n2v",
         "hidden": false,
         "locked": false,
         "points": 1,
         "success_message": "y2v has same shape as n2v"
        },
        {
         "code": ">>> assert all(x2v[n2v < 0] == 0)\n",
         "failure_message": "elements of yv are not all zero where nv<0",
         "hidden": false,
         "locked": false,
         "points": 1,
         "success_message": "elements of yv are all zero where nv<0"
        }
       ],
       "scored": true,
       "setup": "",
       "teardown": "",
       "type": "doctest"
      }
     ]
    },
    "lab_ass01_q1c": {
     "name": "lab_ass01_q1c",
     "points": null,
     "suites": [
      {
       "cases": [
        {
         "code": ">>> assert n3v.shape == h3v.shape\n",
         "failure_message": "h3v does not have same shape as n3v",
         "hidden": false,
         "locked": false,
         "points": 1,
         "success_message": "h3v has same shape as n3v"
        },
        {
         "code": ">>> assert w3v.shape == H3v.shape\n",
         "failure_message": "H3v does not have same shape as w3v",
         "hidden": false,
         "locked": false,
         "points": 1,
         "success_message": "H3v has same shape as w3v"
        }
       ],
       "scored": true,
       "setup": "",
       "teardown": "",
       "type": "doctest"
      }
     ]
    }
   }
  }
 },
 "nbformat": 4,
 "nbformat_minor": 5
}
